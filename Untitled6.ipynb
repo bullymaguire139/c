{
 "cells": [
  {
   "cell_type": "code",
   "execution_count": 35,
   "id": "5f06d722",
   "metadata": {},
   "outputs": [],
   "source": [
    "#I have attempted this task via python on jupyter notebook\n",
    "#First I import both excel sheets in python and combine \"Order ID \" and \"Product ID\" in both sheets to create a new column that can act as a unique identifier\n",
    "\n",
    "import pandas as pd"
   ]
  },
  {
   "cell_type": "code",
   "execution_count": 36,
   "id": "fbd6f2e6",
   "metadata": {},
   "outputs": [],
   "source": [
    "df1=pd.read_excel('Records Matching Task.xlsx')\n",
    "df2=pd.read_excel('Records Matching Task 2.xlsx')"
   ]
  },
  {
   "cell_type": "code",
   "execution_count": 37,
   "id": "b5d6c2ce",
   "metadata": {},
   "outputs": [],
   "source": [
    "df1['concated']=df1['Order ID']+df1['Product ID']\n",
    "df2['concated']=df2['Order ID']+df2['Product ID']"
   ]
  },
  {
   "cell_type": "code",
   "execution_count": null,
   "id": "00a09343",
   "metadata": {},
   "outputs": [],
   "source": [
    "df1.set_index(['concated'],inplace=True)\n",
    "df2.set_index(['concated'],inplace=True)"
   ]
  },
  {
   "cell_type": "code",
   "execution_count": 38,
   "id": "764ca6df",
   "metadata": {},
   "outputs": [],
   "source": [
    "#Now I create 2 sets for concated column of both df and use set func difference() to create new sets according to tasks given in ques 1 and ques 2\n",
    "\n",
    "set1=set(df1['concated'].tolist())\n",
    "set2=set(df2['concated'].tolist())\n",
    "set3=set1.difference(set2)\n",
    "set4=set2.difference(set1)"
   ]
  },
  {
   "cell_type": "code",
   "execution_count": 58,
   "id": "2432cd7a",
   "metadata": {},
   "outputs": [
    {
     "name": "stdout",
     "output_type": "stream",
     "text": [
      "507 508\n"
     ]
    }
   ],
   "source": [
    "#The length of set3 and set4 are the answers to ques 1 and ques 2 respectively\n",
    "\n",
    "print(len(set3),len(set4))"
   ]
  },
  {
   "cell_type": "code",
   "execution_count": 39,
   "id": "ef449744",
   "metadata": {},
   "outputs": [],
   "source": [
    "#To view the records ,I created 2 lists that did not contain the desired indices so that I can use them to drop undesired columns from our table\n",
    "\n",
    "list1=list(set1.difference(set3))\n",
    "list2=list(set2.difference(set4))"
   ]
  },
  {
   "cell_type": "code",
   "execution_count": null,
   "id": "fec73053",
   "metadata": {},
   "outputs": [],
   "source": [
    "ans_1=df1.drop(list1).reset_index().drop(['concated'],axis=1)\n",
    "ans_2=df2.drop(list2).reset_index().drop(['concated'],axis=1)"
   ]
  },
  {
   "cell_type": "code",
   "execution_count": 59,
   "id": "432e8ac4",
   "metadata": {},
   "outputs": [
    {
     "name": "stdout",
     "output_type": "stream",
     "text": [
      "         Order ID       Product ID   Qty\n",
      "0  CA-2014-100006  TEC-PH-10002075   3.0\n",
      "1  CA-2014-100678  OFF-EN-10000056   3.0\n",
      "2  CA-2014-100895  OFF-AR-10004511   2.0\n",
      "3  CA-2014-101560  OFF-BI-10000309   3.0\n",
      "4  CA-2014-102673  OFF-LA-10001771  12.0\n"
     ]
    }
   ],
   "source": [
    "print(ans_1.head())"
   ]
  },
  {
   "cell_type": "code",
   "execution_count": 60,
   "id": "92e6f981",
   "metadata": {},
   "outputs": [
    {
     "name": "stdout",
     "output_type": "stream",
     "text": [
      "         Order ID       Product ID  Qty\n",
      "0  CA-2014-100706  TEC-AC-10001314    2\n",
      "1  CA-2014-100762  OFF-PA-10001815    3\n",
      "2  CA-2014-101427  OFF-AR-10002257    3\n",
      "3  CA-2014-102652  FUR-FU-10001918    7\n",
      "4  CA-2014-102869  OFF-PA-10000788    3\n"
     ]
    }
   ],
   "source": [
    "print(ans_2.head())"
   ]
  },
  {
   "cell_type": "code",
   "execution_count": 61,
   "id": "0c7fbf58",
   "metadata": {},
   "outputs": [
    {
     "name": "stdout",
     "output_type": "stream",
     "text": [
      "1956\n"
     ]
    }
   ],
   "source": [
    "#For ques 3 we just have to use sum() func on Qty column of the table created for ques 2\n",
    "\n",
    "print(ans_2['Qty'].sum())"
   ]
  },
  {
   "cell_type": "code",
   "execution_count": 62,
   "id": "379d75c1",
   "metadata": {},
   "outputs": [
    {
     "name": "stdout",
     "output_type": "stream",
     "text": [
      "9986\n"
     ]
    }
   ],
   "source": [
    "#For Ques 4 we can just use the length of union of sets of our primary key created earlier \n",
    "\n",
    "print(len(set1.union(set2)))"
   ]
  },
  {
   "cell_type": "code",
   "execution_count": null,
   "id": "37167487",
   "metadata": {},
   "outputs": [],
   "source": []
  }
 ],
 "metadata": {
  "kernelspec": {
   "display_name": "Python 3 (ipykernel)",
   "language": "python",
   "name": "python3"
  },
  "language_info": {
   "codemirror_mode": {
    "name": "ipython",
    "version": 3
   },
   "file_extension": ".py",
   "mimetype": "text/x-python",
   "name": "python",
   "nbconvert_exporter": "python",
   "pygments_lexer": "ipython3",
   "version": "3.10.2"
  }
 },
 "nbformat": 4,
 "nbformat_minor": 5
}
